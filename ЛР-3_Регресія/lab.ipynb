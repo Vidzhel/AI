{
 "cells": [
  {
   "cell_type": "markdown",
   "source": [
    "Талавер Олег ПІ-60[2]\n",
    "Репозиторій: https://gitlab.com/bachelors2022/pi-60/talaver-oleg/other/ai.git"
   ],
   "metadata": {
    "collapsed": false,
    "pycharm": {
     "name": "#%% md\n"
    }
   }
  },
  {
   "cell_type": "markdown",
   "source": [
    "# ДСЛІДЖЕННЯ МЕТОДІВ РЕГРЕСІЇ\n",
    "\n",
    "## Створення регресора однієї змінної\n",
    "\n",
    "Побудувати регресійну модель на основі однієї змінної. Використовувати файл вхідних даних: data_singlevar_regr.txt"
   ],
   "metadata": {
    "collapsed": false,
    "pycharm": {
     "name": "#%% md\n"
    }
   }
  },
  {
   "cell_type": "code",
   "execution_count": 85,
   "outputs": [
    {
     "data": {
      "text/plain": "<Figure size 432x288 with 1 Axes>",
      "image/png": "[encoded data removed]"
     },
     "metadata": {},
     "output_type": "display_data"
    },
    {
     "name": "stdout",
     "output_type": "stream",
     "text": [
      "Linear regressor performance:\n",
      "Mean absolute error = 0.59\n",
      "Mean squared error = 0.49\n",
      "Median absolute error = 0.51\n",
      "Explain variance score = 0.86\n",
      "R2 score = 0.86\n",
      "\n",
      "New mean absolute error = 0.59\n"
     ]
    }
   ],
   "source": [
    "import pickle\n",
    "import numpy as np\n",
    "from sklearn import linear_model\n",
    "import sklearn.metrics as sm\n",
    "import matplotlib.pyplot as plt\n",
    "\n",
    "# Вхідний файл, який містить дані\n",
    "input_file = 'data_singlevar_regr.txt'\n",
    "\n",
    "# Завантаження даних\n",
    "data = np.loadtxt(input_file, delimiter=',')\n",
    "X, y = data[:, :-1], data[:, -1]\n",
    "\n",
    "# Розбивка даних на навчальний та тестовий набори\n",
    "num_training = int(0.8 * len(X))\n",
    "num_test = len(X) - num_training\n",
    "\n",
    "# Тренувальні дані\n",
    "X_train, y_train = X[:num_training], y[:num_training]\n",
    "# Тестові дані\n",
    "X_test, y_test = X[num_training:], y[num_training:]\n",
    "\n",
    "# Створення об'єкта лінійного регресора\n",
    "regressor = linear_model.LinearRegression()\n",
    "regressor.fit(X_train, y_train)\n",
    "\n",
    "# Прогнозування результату\n",
    "y_test_pred = regressor.predict(X_test)\n",
    "\n",
    "# Побудова графіка\n",
    "plt.scatter(X_test, y_test, color='green')\n",
    "plt.plot(X_test, y_test_pred, color='black', linewidth=4)\n",
    "plt.xticks(())\n",
    "plt.yticks(())\n",
    "plt.show()\n",
    "\n",
    "print(\"Linear regressor performance:\")\n",
    "print(\"Mean absolute error =\",\n",
    "      round(sm.mean_absolute_error(y_test, y_test_pred), 2))\n",
    "print(\"Mean squared error =\",\n",
    "      round(sm.mean_squared_error(y_test, y_test_pred), 2))\n",
    "print(\"Median absolute error =\",\n",
    "      round(sm.median_absolute_error(y_test, y_test_pred), 2))\n",
    "print(\"Explain variance score =\",\n",
    "      round(sm.explained_variance_score(y_test, y_test_pred), 2))\n",
    "print(\"R2 score =\", round(sm.r2_score(y_test, y_test_pred), 2))\n",
    "\n",
    "# Файл для збереження моделі\n",
    "output_model_file = 'model.pkl'\n",
    "\n",
    "# Збереження моделі\n",
    "with open(output_model_file, 'wb') as f:\n",
    "    pickle.dump(regressor, f)\n",
    "\n",
    "    # Завантаження моделі\n",
    "    y_test_pred_new = regressor.predict(X_test)\n",
    "    print(\"\\nNew mean absolute error =\", round(sm.mean_absolute_error(y_test, y_test_pred_new), 2))\n"
   ],
   "metadata": {
    "collapsed": false,
    "pycharm": {
     "name": "#%%\n"
    }
   }
  },
  {
   "cell_type": "markdown",
   "source": [
    "Як видно з графіку, модель регресії змогла побудувала пряму що досить близько проходить до точок, хоча так як це лінійна регресія вона не змогла пройти через усі точки. Також потрібно зазначити, що збереження коду класу у файл повнітю зберігає"
   ],
   "metadata": {
    "collapsed": false,
    "pycharm": {
     "name": "#%% md\n"
    }
   }
  },
  {
   "cell_type": "markdown",
   "source": [
    "## Передбачення за допомогою регресії однієї змінної\n",
    "\n",
    "Побудувати регресійну модель на основі однієї змінної. Використовувати вхідні дані відповідно свого варіанту, що визначається за списком групи у журналі (таблиця 2.1).\n",
    "\n",
    "2 варіант (17 по списку)"
   ],
   "metadata": {
    "collapsed": false,
    "pycharm": {
     "name": "#%% md\n"
    }
   }
  },
  {
   "cell_type": "code",
   "execution_count": 86,
   "outputs": [
    {
     "data": {
      "text/plain": "<Figure size 432x288 with 1 Axes>",
      "image/png": "[encoded data removed]"
     },
     "metadata": {},
     "output_type": "display_data"
    },
    {
     "name": "stdout",
     "output_type": "stream",
     "text": [
      "Linear regressor performance:\n",
      "Mean absolute error = 2.42\n",
      "Mean squared error = 9.02\n",
      "Median absolute error = 2.14\n",
      "Explain variance score = -0.15\n",
      "R2 score = -1.61\n"
     ]
    }
   ],
   "source": [
    "import pickle\n",
    "import numpy as np\n",
    "from sklearn import linear_model\n",
    "import sklearn.metrics as sm\n",
    "import matplotlib.pyplot as plt\n",
    "\n",
    "# Вхідний файл, який містить дані\n",
    "input_file = 'data_regr_2.txt'\n",
    "\n",
    "# Завантаження даних\n",
    "data = np.loadtxt(input_file, delimiter=',')\n",
    "X, y = data[:, :-1], data[:, -1]\n",
    "\n",
    "# Розбивка даних на навчальний та тестовий набори\n",
    "num_training = int(0.8 * len(X))\n",
    "num_test = len(X) - num_training\n",
    "\n",
    "# Тренувальні дані\n",
    "X_train, y_train = X[:num_training], y[:num_training]\n",
    "# Тестові дані\n",
    "X_test, y_test = X[num_training:], y[num_training:]\n",
    "\n",
    "# Створення об'єкта лінійного регресора\n",
    "regressor = linear_model.LinearRegression()\n",
    "regressor.fit(X_train, y_train)\n",
    "\n",
    "# Прогнозування результату\n",
    "y_test_pred = regressor.predict(X_test)\n",
    "\n",
    "# Побудова графіка\n",
    "plt.scatter(X_test, y_test, color='green')\n",
    "plt.plot(X_test, y_test_pred, color='black', linewidth=4)\n",
    "plt.xticks(())\n",
    "plt.yticks(())\n",
    "plt.show()\n",
    "\n",
    "print(\"Linear regressor performance:\")\n",
    "print(\"Mean absolute error =\",\n",
    "      round(sm.mean_absolute_error(y_test, y_test_pred), 2))\n",
    "print(\"Mean squared error =\",\n",
    "      round(sm.mean_squared_error(y_test, y_test_pred), 2))\n",
    "print(\"Median absolute error =\",\n",
    "      round(sm.median_absolute_error(y_test, y_test_pred), 2))\n",
    "print(\"Explain variance score =\",\n",
    "      round(sm.explained_variance_score(y_test, y_test_pred), 2))\n",
    "print(\"R2 score =\", round(sm.r2_score(y_test, y_test_pred), 2))\n",
    "\n",
    "# Файл для збереження моделі\n",
    "output_model_file = 'model.pkl'"
   ],
   "metadata": {
    "collapsed": false,
    "pycharm": {
     "name": "#%%\n"
    }
   }
  },
  {
   "cell_type": "markdown",
   "source": [
    "Регресія не пройшла успішно через присутність шуму, точок що сильно відхиляються від норми"
   ],
   "metadata": {
    "collapsed": false,
    "pycharm": {
     "name": "#%% md\n"
    }
   }
  },
  {
   "cell_type": "markdown",
   "source": [
    "### Створення багатовимірного регресора\n",
    "\n",
    "Використовувати файл вхідних даних: data_multivar_regr.txt, побудувати\n",
    "регресійну модель на основі багатьох змінних."
   ],
   "metadata": {
    "collapsed": false,
    "pycharm": {
     "name": "#%% md\n"
    }
   }
  },
  {
   "cell_type": "code",
   "execution_count": 87,
   "outputs": [
    {
     "name": "stdout",
     "output_type": "stream",
     "text": [
      "Linear regressor performance:\n",
      "Mean absolute error = 3.58\n",
      "Mean squared error = 20.31\n",
      "Median absolute error = 2.99\n",
      "Explain variance score = 0.86\n",
      "R2 score = 0.86\n"
     ]
    }
   ],
   "source": [
    "import numpy as np\n",
    "from sklearn import linear_model\n",
    "import sklearn.metrics as sm\n",
    "from sklearn.preprocessing import PolynomialFeatures\n",
    "\n",
    "# Вхідний файл, який містить дані\n",
    "input_file = 'data_multivar_regr.txt.'\n",
    "\n",
    "# Завантаження даних\n",
    "data = np.loadtxt(input_file, delimiter=',')\n",
    "X, y = data[:, :-1], data[:, -1]\n",
    "\n",
    "# Розбивка даних на навчальний та тестовий набори\n",
    "num_training = int(0.8 * len(X))\n",
    "num_test = len(X) - num_training\n",
    "\n",
    "# Тренувальні дані\n",
    "X_train, y_train = X[:num_training], y[:num_training]\n",
    "# Тестові дані\n",
    "X_test, y_test = X[num_training:], y[num_training:]\n",
    "\n",
    "# Створення об'єкта лінійного регресора\n",
    "regressor = linear_model.LinearRegression()\n",
    "regressor.fit(X_train, y_train)\n",
    "\n",
    "# Прогнозування результату\n",
    "y_test_pred = regressor.predict(X_test)\n",
    "\n",
    "print(\"Linear regressor performance:\")\n",
    "print(\"Mean absolute error =\", round(sm.mean_absolute_error(y_test, y_test_pred), 2))\n",
    "print(\"Mean squared error =\", round(sm.mean_squared_error(y_test, y_test_pred), 2))\n",
    "print(\"Median absolute error =\", round(sm.median_absolute_error(y_test, y_test_pred), 2))\n",
    "print(\"Explain variance score =\", round(sm.explained_variance_score(y_test, y_test_pred), 2))\n",
    "print(\"R2 score =\", round(sm.r2_score(y_test, y_test_pred), 2))"
   ],
   "metadata": {
    "collapsed": false,
    "pycharm": {
     "name": "#%%\n"
    }
   }
  },
  {
   "cell_type": "code",
   "execution_count": 88,
   "outputs": [
    {
     "name": "stdout",
     "output_type": "stream",
     "text": [
      "Linear regression:  [36.05286276]\n",
      "Polynomial regression:  [41.46504705]\n"
     ]
    }
   ],
   "source": [
    "# Поліноміальна регресія\n",
    "polynomial = PolynomialFeatures(degree=10)\n",
    "X_train_transformed = polynomial.fit_transform(X_train)\n",
    "\n",
    "datapoint = [[7.75, 6.35, 5.56]]\n",
    "poly_datapoint = polynomial.fit_transform(datapoint)\n",
    "\n",
    "poly_linear_model = linear_model.LinearRegression()\n",
    "poly_linear_model.fit(X_train_transformed, y_train)\n",
    "print(\"Linear regression: \", regressor.predict(datapoint))\n",
    "print(\"Polynomial regression: \", poly_linear_model.predict(poly_datapoint))"
   ],
   "metadata": {
    "collapsed": false,
    "pycharm": {
     "name": "#%%\n"
    }
   }
  },
  {
   "cell_type": "markdown",
   "source": [
    "За рахунок гнучкості поліноміального регресора, модель може краще підлаштуватись під точки, що збільшує точність"
   ],
   "metadata": {
    "collapsed": false,
    "pycharm": {
     "name": "#%% md\n"
    }
   }
  },
  {
   "cell_type": "markdown",
   "source": [
    "## Регресія багатьох змінних\n",
    "\n",
    "Розробіть лінійний регресор, використовуючи набір даних по діабету, який існує в sklearn.datasets."
   ],
   "metadata": {
    "collapsed": false,
    "pycharm": {
     "name": "#%% md\n"
    }
   }
  },
  {
   "cell_type": "code",
   "execution_count": 89,
   "outputs": [
    {
     "name": "stdout",
     "output_type": "stream",
     "text": [
      "Regression coefficient [ -20.41129305 -265.88594023  564.64844662  325.55650029 -692.23796104\n",
      "  395.62249978   23.52910434  116.37102129  843.98257585   12.71981044]\n",
      "Regression intercept 154.35898821355153\n",
      "R2 score = 0.44\n",
      "Mean absolute error = 44.8\n",
      "Mean squared error = 3075.33\n"
     ]
    },
    {
     "data": {
      "text/plain": "<Figure size 432x288 with 1 Axes>",
      "image/png": "[encoded data removed]"
     },
     "metadata": {
      "needs_background": "light"
     },
     "output_type": "display_data"
    }
   ],
   "source": [
    "import matplotlib.pyplot as plt\n",
    "from sklearn import datasets, linear_model\n",
    "from sklearn.metrics import mean_squared_error, r2_score, mean_absolute_error\n",
    "from sklearn.model_selection import train_test_split\n",
    "\n",
    "# Завантаження даних\n",
    "diabetes = datasets.load_diabetes()\n",
    "X = diabetes.data\n",
    "y = diabetes.target\n",
    "\n",
    "# Поділ на навчальну та тестову вибірки\n",
    "X_train, X_test, y_train, y_test = train_test_split(X, y, test_size=0.5, random_state=0)\n",
    "\n",
    "# Створення та тренування\n",
    "regr = linear_model.LinearRegression()\n",
    "regr.fit(X_train, y_train)\n",
    "\n",
    "y_pred = regr.predict(X_test)\n",
    "\n",
    "print(\"Regression coefficient\", regr.coef_)\n",
    "print(\"Regression intercept\", regr.intercept_)\n",
    "print(\"R2 score =\", round(r2_score(y_test, y_pred), 2))\n",
    "print(\"Mean absolute error =\", round(mean_absolute_error(y_test, y_pred), 2))\n",
    "print(\"Mean squared error =\", round(mean_squared_error(y_test, y_pred), 2))\n",
    "\n",
    "fig, ax = plt.subplots()\n",
    "ax.scatter(y_test, y_pred, edgecolors=(0, 0, 0))\n",
    "ax.plot([y.min(), y.max()], [y.min(), y.max()], 'k--', lw=4)\n",
    "ax.set_xlabel('Виміряно')\n",
    "ax.set_ylabel('Передбачено')\n",
    "plt.show()"
   ],
   "metadata": {
    "collapsed": false,
    "pycharm": {
     "name": "#%%\n"
    }
   }
  },
  {
   "cell_type": "markdown",
   "source": [
    "Абсолютна похибка досить велика, про це каже й графік, на якому видно значні багаточисленні відхилення від лінії співпадіння"
   ],
   "metadata": {
    "collapsed": false,
    "pycharm": {
     "name": "#%% md\n"
    }
   }
  },
  {
   "cell_type": "markdown",
   "source": [
    "## Самостійна побудова регресії\n",
    "\n",
    "Згенеруйте свої випадкові дані обравши за списком відповідно свій варіант (згідно табл. 2.2) та виведіть їх на графік Побудуйте по них модель лінійної регресії, виведіть на графік. Побудуйте по них модель поліноміальної регресії, виведіть на графік. Оцініть її якість\n",
    "\n",
    "7 варіант (17 номер за списком)"
   ],
   "metadata": {
    "collapsed": false,
    "pycharm": {
     "name": "#%% md\n"
    }
   }
  },
  {
   "cell_type": "code",
   "execution_count": 90,
   "outputs": [
    {
     "data": {
      "text/plain": "<Figure size 432x288 with 1 Axes>",
      "image/png": "[encoded data removed]"
     },
     "metadata": {},
     "output_type": "display_data"
    }
   ],
   "source": [
    "import numpy as np\n",
    "from sklearn.preprocessing import PolynomialFeatures\n",
    "from sklearn.linear_model import LinearRegression\n",
    "import matplotlib.pyplot as plt\n",
    "\n",
    "# Вхідні дані\n",
    "m = 100\n",
    "X = np.linspace(-3, 3, m)\n",
    "y = np.sin(X) + np.random.uniform(-0.5, 0.5, m)\n",
    "# Очікується 2D масив\n",
    "X = X.reshape((m, 1))\n",
    "\n",
    "# Створення об'єкта лінійного регресора\n",
    "linear_regression = LinearRegression()\n",
    "linear_regression.fit(X, y)\n",
    "\n",
    "# Побудова графіка лінійної регресії\n",
    "plt.scatter(X, y, color='green')\n",
    "plt.plot(X, linear_regression.predict(X), color='black', linewidth=4)\n",
    "plt.xticks(())\n",
    "plt.yticks(())\n",
    "plt.show()"
   ],
   "metadata": {
    "collapsed": false,
    "pycharm": {
     "name": "#%%\n"
    }
   }
  },
  {
   "cell_type": "code",
   "execution_count": 91,
   "outputs": [
    {
     "name": "stdout",
     "output_type": "stream",
     "text": [
      "X[0] [-3.]\n",
      "X_poly [[ -3.           9.         -27.        ]\n",
      " [ -2.93939394   8.64003673 -25.3964716 ]\n",
      " [ -2.87878788   8.28741965 -23.85772324]\n",
      " [ -2.81818182   7.94214876 -22.38241923]\n",
      " [ -2.75757576   7.60422406 -20.96922392]]\n",
      "Coefficients [ 0.88714761 -0.01287936 -0.09821319]\n",
      "Intercept 0.054263048417216866\n"
     ]
    },
    {
     "data": {
      "text/plain": "<Figure size 432x288 with 1 Axes>",
      "image/png": "[encoded data removed]"
     },
     "metadata": {},
     "output_type": "display_data"
    }
   ],
   "source": [
    "# Поліноміальна регресія (3го тупеню)\n",
    "poly_features = PolynomialFeatures(degree=3, include_bias=False)\n",
    "X_poly = poly_features.fit_transform(X)\n",
    "\n",
    "poly_regression = LinearRegression()\n",
    "poly_regression.fit(X_poly, y)\n",
    "\n",
    "print(\"X[0]\", X[0])\n",
    "print(\"X_poly\", X_poly[:5])\n",
    "print(\"Coefficients\", poly_regression.coef_)\n",
    "print(\"Intercept\", poly_regression.intercept_)\n",
    "\n",
    "# Побудова графіка поліноміальної регресії\n",
    "plt.scatter(X, y, color='green')\n",
    "plt.plot(X, poly_regression.predict(poly_features.fit_transform(X)), color='black', linewidth=4)\n",
    "plt.xticks(())\n",
    "plt.yticks(())\n",
    "plt.show()"
   ],
   "metadata": {
    "collapsed": false,
    "pycharm": {
     "name": "#%%\n"
    }
   }
  },
  {
   "cell_type": "markdown",
   "source": [
    "y = Sin(x) + шум\n",
    "Але я не впевнений як записати те що ви просите"
   ],
   "metadata": {
    "collapsed": false,
    "pycharm": {
     "name": "#%% md\n"
    }
   }
  },
  {
   "cell_type": "markdown",
   "source": [
    "## Побудова кривих навчання\n",
    "\n",
    "Побудуйте криві навчання для ваших даних у попередньому завданні."
   ],
   "metadata": {
    "collapsed": false,
    "pycharm": {
     "name": "#%% md\n"
    }
   }
  },
  {
   "cell_type": "code",
   "execution_count": 92,
   "outputs": [
    {
     "data": {
      "text/plain": "<Figure size 432x288 with 1 Axes>",
      "image/png": "[encoded data removed]"
     },
     "metadata": {},
     "output_type": "display_data"
    }
   ],
   "source": [
    "import matplotlib.pyplot as plt\n",
    "import numpy as np\n",
    "from sklearn.metrics import mean_squared_error\n",
    "from sklearn.model_selection import train_test_split\n",
    "from sklearn.linear_model import LinearRegression\n",
    "from sklearn.pipeline import Pipeline\n",
    "from sklearn.preprocessing import PolynomialFeatures\n",
    "\n",
    "\n",
    "def plot_learning_curves(model, X, y):\n",
    "    X_train, X_val, y_train, y_val = train_test_split(X, y, test_size=0.2)\n",
    "    train_errors, val_errors = [], []\n",
    "    for m in range(1, len(X_train)):\n",
    "        model.fit(X_train[:m], y_train[:m])\n",
    "        y_train_predict = model.predict(X_train[:m])\n",
    "        y_val_predict = model.predict(X_val)\n",
    "        train_errors.append(mean_squared_error(y_train_predict, y_train[:m]))\n",
    "        val_errors.append(mean_squared_error(y_val_predict, y_val))\n",
    "    plt.plot(np.sqrt(train_errors), \"r-+\", linewidth=2, label=\"train\")\n",
    "    plt.plot(np.sqrt(val_errors), \"b-\", linewidth=3, label=\"val\")\n",
    "\n",
    "# Створення об'єкта лінійного регресора\n",
    "linear_regression = LinearRegression()\n",
    "\n",
    "# Побудова графіка лінійної регресії\n",
    "plot_learning_curves(linear_regression, X, y)\n",
    "plt.xticks(())\n",
    "plt.yticks(())\n",
    "plt.show()"
   ],
   "metadata": {
    "collapsed": false,
    "pycharm": {
     "name": "#%%\n"
    }
   }
  },
  {
   "cell_type": "code",
   "execution_count": 93,
   "outputs": [
    {
     "data": {
      "text/plain": "<Figure size 432x288 with 1 Axes>",
      "image/png": "[encoded data removed]"
     },
     "metadata": {
      "needs_background": "light"
     },
     "output_type": "display_data"
    }
   ],
   "source": [
    "polynomial_regression = Pipeline(\n",
    "    [(\"poly_features\", PolynomialFeatures(degree=10, include_bias=False)), (\"linear_regression\", LinearRegression())])\n",
    "plot_learning_curves(polynomial_regression, X, y)\n",
    "plt.show()"
   ],
   "metadata": {
    "collapsed": false,
    "pycharm": {
     "name": "#%%\n"
    }
   }
  },
  {
   "cell_type": "code",
   "execution_count": 94,
   "outputs": [
    {
     "data": {
      "text/plain": "<Figure size 432x288 with 1 Axes>",
      "image/png": "[encoded data removed]"
     },
     "metadata": {
      "needs_background": "light"
     },
     "output_type": "display_data"
    }
   ],
   "source": [
    "polynomial_regression = Pipeline(\n",
    "    [(\"poly_features\", PolynomialFeatures(degree=2, include_bias=False)), (\"linear_regression\", LinearRegression())])\n",
    "plot_learning_curves(polynomial_regression, X, y)\n",
    "plt.show()"
   ],
   "metadata": {
    "collapsed": false,
    "pycharm": {
     "name": "#%%\n"
    }
   }
  }
 ],
 "metadata": {
  "kernelspec": {
   "display_name": "Python 3 (ipykernel)",
   "language": "python",
   "name": "python3"
  },
  "language_info": {
   "codemirror_mode": {
    "name": "ipython",
    "version": 3
   },
   "file_extension": ".py",
   "mimetype": "text/x-python",
   "name": "python",
   "nbconvert_exporter": "python",
   "pygments_lexer": "ipython3",
   "version": "3.10.2"
  }
 },
 "nbformat": 4,
 "nbformat_minor": 1
}