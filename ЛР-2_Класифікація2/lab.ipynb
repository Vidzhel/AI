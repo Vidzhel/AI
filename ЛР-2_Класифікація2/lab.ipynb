{
 "cells": [
  {
   "cell_type": "markdown",
   "source": [
    "Талавер Олег ПІ-60[2]\n",
    "Репозиторій: https://gitlab.com/bachelors2022/pi-60/talaver-oleg/other/ai.git"
   ],
   "metadata": {
    "collapsed": false,
    "pycharm": {
     "name": "#%% md\n"
    }
   }
  },
  {
   "cell_type": "markdown",
   "source": [
    "# ПОРІВНЯННЯ МЕТОДІВ КЛАСИФІКАЦІЇ ДАНИХ\n",
    "\n",
    "## Класифікація за допомогою машин опорних векторів (SVM)\n",
    "\n",
    "Створіть класифікатор у вигляді машини опорних векторів, призначений\n",
    "для прогнозування меж доходу заданої фізичної особи на основі 14 ознак\n",
    "(атрибутів). Метою є з'ясування умов, за яких щорічний прибуток людини\n",
    "перевищує $50000 або менше цієї величини за допомогою бінарної\n",
    "класифікації. Набір даних знаходяться за посиланням"
   ],
   "metadata": {
    "collapsed": false,
    "pycharm": {
     "name": "#%% md\n"
    }
   }
  },
  {
   "cell_type": "markdown",
   "source": [
    "Опис атрибутів, де \"continuous\" - числові значення, в іншому випадку - яклики\n",
    "\n",
    "- age: continuous.\n",
    "- workclass: Private, Self-emp-not-inc, Self-emp-inc, Federal-gov, Local-gov, State-gov, Without-pay, Never-worked.\n",
    "- fnlwgt: continuous.\n",
    "- education: Bachelors, Some-college, 11th, HS-grad, Prof-school, Assoc-acdm, Assoc-voc, 9th, 7th-8th, 12th, Masters, 1st-4th, 10th, Doctorate, 5th-6th, Preschool.\n",
    "- education-num: continuous.\n",
    "- marital-status: Married-civ-spouse, Divorced, Never-married, Separated, Widowed, Married-spouse-absent, Married-AF-spouse.\n",
    "- occupation: Tech-support, Craft-repair, Other-service, Sales, Exec-managerial, Prof-specialty, Handlers-cleaners, Machine-op-inspct, Adm-clerical, Farming-fishing, Transport-moving, Priv-house-serv, Protective-serv, Armed-Forces.\n",
    "- relationship: Wife, Own-child, Husband, Not-in-family, Other-relative, Unmarried.\n",
    "- race: White, Asian-Pac-Islander, Amer-Indian-Eskimo, Other, Black.\n",
    "- sex: Female, Male.\n",
    "- capital-gain: continuous.\n",
    "- capital-loss: continuous.\n",
    "- hours-per-week: continuous.\n",
    "- native-country: United-States, Cambodia, England, Puerto-Rico, Canada, Germany, Outlying-US(Guam-USVI-etc), India, Japan, Greece, South, China, Cuba, Iran, Honduras, Philippines, Italy, Poland, Jamaica, Vietnam, Mexico, Portugal, Ireland, France, Dominican-Republic, Laos, Ecuador, Taiwan, Haiti, Columbia, Hungary, Guatemala, Nicaragua, Scotland, Thailand, Yugoslavia, El-Salvador, Trinadad&Tobago, Peru, Hong, Holand-Netherlands."
   ],
   "metadata": {
    "collapsed": false,
    "pycharm": {
     "name": "#%% md\n"
    }
   }
  },
  {
   "cell_type": "code",
   "execution_count": 1,
   "outputs": [
    {
     "name": "stdout",
     "output_type": "stream",
     "text": [
      "[['39' 'State-gov' '77516' 'Bachelors' '13' 'Never-married'\n",
      "  'Adm-clerical' 'Not-in-family' 'White' 'Male' '2174' '0' '40'\n",
      "  'United-States' '<=50K']\n",
      " ['50' 'Self-emp-not-inc' '83311' 'Bachelors' '13' 'Married-civ-spouse'\n",
      "  'Exec-managerial' 'Husband' 'White' 'Male' '0' '0' '13' 'United-States'\n",
      "  '<=50K']\n",
      " ['38' 'Private' '215646' 'HS-grad' '9' 'Divorced' 'Handlers-cleaners'\n",
      "  'Not-in-family' 'White' 'Male' '0' '0' '40' 'United-States' '<=50K']\n",
      " ['53' 'Private' '234721' '11th' '7' 'Married-civ-spouse'\n",
      "  'Handlers-cleaners' 'Husband' 'Black' 'Male' '0' '0' '40'\n",
      "  'United-States' '<=50K']\n",
      " ['28' 'Private' '338409' 'Bachelors' '13' 'Married-civ-spouse'\n",
      "  'Prof-specialty' 'Wife' 'Black' 'Female' '0' '0' '40' 'Cuba' '<=50K']]\n",
      "[[    39      5  77516      9     13      4      0      1      4      1\n",
      "    2174      0     40     38]\n",
      " [    50      4  83311      9     13      2      3      0      4      1\n",
      "       0      0     13     38]\n",
      " [    38      2 215646     11      9      0      5      1      4      1\n",
      "       0      0     40     38]\n",
      " [    53      2 234721      1      7      2      5      0      2      1\n",
      "       0      0     40     38]\n",
      " [    28      2 338409      9     13      2      9      5      2      0\n",
      "       0      0     40      4]]\n",
      "[0 0 0 0 0]\n"
     ]
    },
    {
     "name": "stderr",
     "output_type": "stream",
     "text": [
      "C:\\University\\AI\\venv\\lib\\site-packages\\sklearn\\svm\\_base.py:1206: ConvergenceWarning: Liblinear failed to converge, increase the number of iterations.\n",
      "  warnings.warn(\n",
      "C:\\University\\AI\\venv\\lib\\site-packages\\sklearn\\svm\\_base.py:1206: ConvergenceWarning: Liblinear failed to converge, increase the number of iterations.\n",
      "  warnings.warn(\n",
      "C:\\University\\AI\\venv\\lib\\site-packages\\sklearn\\svm\\_base.py:1206: ConvergenceWarning: Liblinear failed to converge, increase the number of iterations.\n",
      "  warnings.warn(\n",
      "C:\\University\\AI\\venv\\lib\\site-packages\\sklearn\\svm\\_base.py:1206: ConvergenceWarning: Liblinear failed to converge, increase the number of iterations.\n",
      "  warnings.warn(\n"
     ]
    },
    {
     "name": "stdout",
     "output_type": "stream",
     "text": [
      "F1 score: 56.15%\n",
      "Label <=50K\n"
     ]
    },
    {
     "name": "stderr",
     "output_type": "stream",
     "text": [
      "C:\\University\\AI\\venv\\lib\\site-packages\\sklearn\\svm\\_base.py:1206: ConvergenceWarning: Liblinear failed to converge, increase the number of iterations.\n",
      "  warnings.warn(\n",
      "C:\\University\\AI\\venv\\lib\\site-packages\\sklearn\\svm\\_base.py:1206: ConvergenceWarning: Liblinear failed to converge, increase the number of iterations.\n",
      "  warnings.warn(\n",
      "C:\\University\\AI\\venv\\lib\\site-packages\\sklearn\\svm\\_base.py:1206: ConvergenceWarning: Liblinear failed to converge, increase the number of iterations.\n",
      "  warnings.warn(\n"
     ]
    },
    {
     "name": "stdout",
     "output_type": "stream",
     "text": [
      "Accuracy: 62.64%\n"
     ]
    },
    {
     "name": "stderr",
     "output_type": "stream",
     "text": [
      "C:\\University\\AI\\venv\\lib\\site-packages\\sklearn\\svm\\_base.py:1206: ConvergenceWarning: Liblinear failed to converge, increase the number of iterations.\n",
      "  warnings.warn(\n",
      "C:\\University\\AI\\venv\\lib\\site-packages\\sklearn\\svm\\_base.py:1206: ConvergenceWarning: Liblinear failed to converge, increase the number of iterations.\n",
      "  warnings.warn(\n",
      "C:\\University\\AI\\venv\\lib\\site-packages\\sklearn\\svm\\_base.py:1206: ConvergenceWarning: Liblinear failed to converge, increase the number of iterations.\n",
      "  warnings.warn(\n"
     ]
    },
    {
     "name": "stdout",
     "output_type": "stream",
     "text": [
      "Precision: 75.88%\n"
     ]
    },
    {
     "name": "stderr",
     "output_type": "stream",
     "text": [
      "C:\\University\\AI\\venv\\lib\\site-packages\\sklearn\\svm\\_base.py:1206: ConvergenceWarning: Liblinear failed to converge, increase the number of iterations.\n",
      "  warnings.warn(\n",
      "C:\\University\\AI\\venv\\lib\\site-packages\\sklearn\\svm\\_base.py:1206: ConvergenceWarning: Liblinear failed to converge, increase the number of iterations.\n",
      "  warnings.warn(\n"
     ]
    },
    {
     "name": "stdout",
     "output_type": "stream",
     "text": [
      "Recall: 62.64%\n"
     ]
    },
    {
     "name": "stderr",
     "output_type": "stream",
     "text": [
      "C:\\University\\AI\\venv\\lib\\site-packages\\sklearn\\svm\\_base.py:1206: ConvergenceWarning: Liblinear failed to converge, increase the number of iterations.\n",
      "  warnings.warn(\n"
     ]
    }
   ],
   "source": [
    "import numpy as np\n",
    "from sklearn import preprocessing, svm\n",
    "from sklearn.svm import LinearSVC\n",
    "from sklearn.multiclass import OneVsOneClassifier\n",
    "from sklearn.model_selection import train_test_split, cross_val_score\n",
    "\n",
    "# Вхідний файл, який містить дані\n",
    "input_file = 'income_data.txt'\n",
    "\n",
    "# Читання даних\n",
    "X = []\n",
    "y = []\n",
    "count_class1 = 0\n",
    "count_class2 = 0\n",
    "max_datapoints = 25000\n",
    "\n",
    "with open(input_file, 'r') as f:\n",
    "    for line in f.readlines():\n",
    "        if count_class1 >= max_datapoints and count_class2 >= max_datapoints:\n",
    "            break\n",
    "        if '?' in line:\n",
    "            continue\n",
    "\n",
    "        data = line[:-1].split(', ')\n",
    "\n",
    "        if data[-1] == '<=50K' and count_class1 < max_datapoints:\n",
    "            X.append(data)\n",
    "            count_class1 += 1\n",
    "        if data[-1] == '>50K' and count_class2 < max_datapoints:\n",
    "            X.append(data)\n",
    "            count_class2 += 1\n",
    "\n",
    "# Перетворення на масив numpy\n",
    "X = np.array(X)\n",
    "print(X[:5])\n",
    "\n",
    "# Перетворення рядкових даних на числові\n",
    "label_encoder = []\n",
    "X_encoded = np.empty(X.shape)\n",
    "for i, item in enumerate(X[0]):\n",
    "    if item.isdigit():\n",
    "        X_encoded[:, i] = X[:, i]\n",
    "    else:\n",
    "        label_encoder.append(preprocessing.LabelEncoder())\n",
    "        X_encoded[:, i] = label_encoder[-1].fit_transform(X[:, i])\n",
    "\n",
    "X = X_encoded[:, :-1].astype(int)\n",
    "y = X_encoded[:, -1].astype(int)\n",
    "\n",
    "print(X[:5])\n",
    "print(y[:5])\n",
    "\n",
    "\n",
    "# Створення SVМ-класифікатора\n",
    "X_train, X_test, y_train, y_test = train_test_split(X, y, test_size=0.2, random_state=5)\n",
    "classifier = OneVsOneClassifier(LinearSVC(random_state=0))\n",
    "classifier.fit(X_train, y_train)\n",
    "y_test_pred = classifier.predict(X_test)\n",
    "\n",
    "# Обчислення F-міри для SVМ-класифікатора\n",
    "f1 = cross_val_score(classifier, X, y, scoring='f1_weighted', cv=3)\n",
    "print(\"F1 score: \" + str(round(100 * f1.mean(), 2)) + \"%\")\n",
    "\n",
    "# Передбачення результату для тестової точки даних\n",
    "input_data = ['37', 'Private', '215646', 'HS-grad', '9', 'Never-married', 'Handlers-cleaners', 'Not-in-family', 'White',\n",
    "              'Male', '0', '0', '40', 'United-States']\n",
    "\n",
    "# Кодування тестової точки даних\n",
    "input_data_encoded = [-1] * len(input_data)\n",
    "count = 0\n",
    "for i, item in enumerate(input_data):\n",
    "    if item.isdigit():\n",
    "        input_data_encoded[i] = int(input_data[i])\n",
    "    else:\n",
    "        input_data_encoded[i] = int(label_encoder[count].transform([input_data[i]]))\n",
    "        count += 1\n",
    "\n",
    "input_data_encoded = np.array(input_data_encoded)\n",
    "\n",
    "# Використання класифікатора для кодованої точки даних та виведення результату\n",
    "predicted_class = classifier.predict(input_data_encoded.reshape(1, 14))\n",
    "print(\"Label\", label_encoder[-1].inverse_transform(predicted_class)[0])\n",
    "\n",
    "accuracy_values = cross_val_score(classifier, X, y, scoring='accuracy', cv=3)\n",
    "print(\"Accuracy: \" + str(round(100 * accuracy_values.mean(), 2)) + \"%\")\n",
    "precision_values = cross_val_score(classifier, X, y, scoring='precision_weighted', cv=3)\n",
    "print(\"Precision: \" + str(round(100 * precision_values.mean(), 2)) + \"%\")\n",
    "recall_values = cross_val_score(classifier, X, y, scoring='recall_weighted', cv=3)\n",
    "print(\"Recall: \" + str(round(100 * recall_values.mean(), 2)) + \"%\")"
   ],
   "metadata": {
    "collapsed": false,
    "pycharm": {
     "name": "#%%\n"
    }
   }
  },
  {
   "cell_type": "markdown",
   "source": [
    "Випадкова тестова точка була віднесена до класу <=50"
   ],
   "metadata": {
    "collapsed": false,
    "pycharm": {
     "name": "#%% md\n"
    }
   }
  },
  {
   "cell_type": "markdown",
   "source": [
    "##  Порівняння якості класифікаторів SVM з нелінійними ядрами\n",
    "Використовуючи набір даних та код з попереднього завдання створіть та дослідіть нелінійні класифікатори SVM.\n",
    "- з поліноміальним ядром;\n",
    "- з гаусовим ядром;\n",
    "- з сигмоїдальним ядром.\n",
    "\n",
    "Для кожного виду класифікатора отримайте та запишіть у звіт показники якості алгоритму класифікації."
   ],
   "metadata": {
    "collapsed": false,
    "pycharm": {
     "name": "#%% md\n"
    }
   }
  },
  {
   "cell_type": "code",
   "execution_count": 2,
   "outputs": [
    {
     "name": "stderr",
     "output_type": "stream",
     "text": [
      "C:\\University\\AI\\venv\\lib\\site-packages\\sklearn\\svm\\_base.py:284: ConvergenceWarning: Solver terminated early (max_iter=10000).  Consider pre-processing your data with StandardScaler or MinMaxScaler.\n",
      "  warnings.warn(\n"
     ]
    },
    {
     "name": "stdout",
     "output_type": "stream",
     "text": [
      "Label >50K\n"
     ]
    },
    {
     "name": "stderr",
     "output_type": "stream",
     "text": [
      "C:\\University\\AI\\venv\\lib\\site-packages\\sklearn\\svm\\_base.py:284: ConvergenceWarning: Solver terminated early (max_iter=10000).  Consider pre-processing your data with StandardScaler or MinMaxScaler.\n",
      "  warnings.warn(\n",
      "C:\\University\\AI\\venv\\lib\\site-packages\\sklearn\\svm\\_base.py:284: ConvergenceWarning: Solver terminated early (max_iter=10000).  Consider pre-processing your data with StandardScaler or MinMaxScaler.\n",
      "  warnings.warn(\n",
      "C:\\University\\AI\\venv\\lib\\site-packages\\sklearn\\svm\\_base.py:284: ConvergenceWarning: Solver terminated early (max_iter=10000).  Consider pre-processing your data with StandardScaler or MinMaxScaler.\n",
      "  warnings.warn(\n"
     ]
    },
    {
     "name": "stdout",
     "output_type": "stream",
     "text": [
      "Accuracy: 75.12%\n"
     ]
    },
    {
     "name": "stderr",
     "output_type": "stream",
     "text": [
      "C:\\University\\AI\\venv\\lib\\site-packages\\sklearn\\svm\\_base.py:284: ConvergenceWarning: Solver terminated early (max_iter=10000).  Consider pre-processing your data with StandardScaler or MinMaxScaler.\n",
      "  warnings.warn(\n",
      "C:\\University\\AI\\venv\\lib\\site-packages\\sklearn\\svm\\_base.py:284: ConvergenceWarning: Solver terminated early (max_iter=10000).  Consider pre-processing your data with StandardScaler or MinMaxScaler.\n",
      "  warnings.warn(\n",
      "C:\\University\\AI\\venv\\lib\\site-packages\\sklearn\\svm\\_base.py:284: ConvergenceWarning: Solver terminated early (max_iter=10000).  Consider pre-processing your data with StandardScaler or MinMaxScaler.\n",
      "  warnings.warn(\n"
     ]
    },
    {
     "name": "stdout",
     "output_type": "stream",
     "text": [
      "Precision: 70.07%\n"
     ]
    },
    {
     "name": "stderr",
     "output_type": "stream",
     "text": [
      "C:\\University\\AI\\venv\\lib\\site-packages\\sklearn\\svm\\_base.py:284: ConvergenceWarning: Solver terminated early (max_iter=10000).  Consider pre-processing your data with StandardScaler or MinMaxScaler.\n",
      "  warnings.warn(\n",
      "C:\\University\\AI\\venv\\lib\\site-packages\\sklearn\\svm\\_base.py:284: ConvergenceWarning: Solver terminated early (max_iter=10000).  Consider pre-processing your data with StandardScaler or MinMaxScaler.\n",
      "  warnings.warn(\n",
      "C:\\University\\AI\\venv\\lib\\site-packages\\sklearn\\svm\\_base.py:284: ConvergenceWarning: Solver terminated early (max_iter=10000).  Consider pre-processing your data with StandardScaler or MinMaxScaler.\n",
      "  warnings.warn(\n"
     ]
    },
    {
     "name": "stdout",
     "output_type": "stream",
     "text": [
      "Recall: 75.12%\n"
     ]
    }
   ],
   "source": [
    "# Створення SVМ-класифікатора\n",
    "classifier = svm.SVC(kernel='poly', degree=8, max_iter=10_000, random_state=0)\n",
    "classifier.fit(X_train, y_train)\n",
    "\n",
    "# Використання класифікатора для кодованої точки даних та виведення результату\n",
    "predicted_class = classifier.predict(input_data_encoded.reshape(1, 14))\n",
    "print(\"Label\", label_encoder[-1].inverse_transform(predicted_class)[0])\n",
    "\n",
    "accuracy_values = cross_val_score(classifier, X, y, scoring='accuracy', cv=3)\n",
    "print(\"Accuracy: \" + str(round(100 * accuracy_values.mean(), 2)) + \"%\")\n",
    "precision_values = cross_val_score(classifier, X, y, scoring='precision_weighted', cv=3)\n",
    "print(\"Precision: \" + str(round(100 * precision_values.mean(), 2)) + \"%\")\n",
    "recall_values = cross_val_score(classifier, X, y, scoring='recall_weighted', cv=3)\n",
    "print(\"Recall: \" + str(round(100 * recall_values.mean(), 2)) + \"%\")"
   ],
   "metadata": {
    "collapsed": false,
    "pycharm": {
     "name": "#%%\n"
    }
   }
  },
  {
   "cell_type": "code",
   "execution_count": 3,
   "outputs": [
    {
     "name": "stdout",
     "output_type": "stream",
     "text": [
      "Label <=50K\n",
      "Accuracy: 78.61%\n",
      "Precision: 83.06%\n",
      "Recall: 78.61%\n"
     ]
    }
   ],
   "source": [
    "# Створення SVМ-класифікатора\n",
    "classifier = svm.SVC(kernel='rbf', max_iter=10_000, random_state=0)\n",
    "classifier.fit(X_train, y_train)\n",
    "\n",
    "# Використання класифікатора для кодованої точки даних та виведення результату\n",
    "predicted_class = classifier.predict(input_data_encoded.reshape(1, 14))\n",
    "print(\"Label\", label_encoder[-1].inverse_transform(predicted_class)[0])\n",
    "\n",
    "accuracy_values = cross_val_score(classifier, X, y, scoring='accuracy', cv=3)\n",
    "print(\"Accuracy: \" + str(round(100 * accuracy_values.mean(), 2)) + \"%\")\n",
    "precision_values = cross_val_score(classifier, X, y, scoring='precision_weighted', cv=3)\n",
    "print(\"Precision: \" + str(round(100 * precision_values.mean(), 2)) + \"%\")\n",
    "recall_values = cross_val_score(classifier, X, y, scoring='recall_weighted', cv=3)\n",
    "print(\"Recall: \" + str(round(100 * recall_values.mean(), 2)) + \"%\")"
   ],
   "metadata": {
    "collapsed": false,
    "pycharm": {
     "name": "#%%\n"
    }
   }
  },
  {
   "cell_type": "code",
   "execution_count": 5,
   "outputs": [
    {
     "name": "stdout",
     "output_type": "stream",
     "text": [
      "Label <=50K\n",
      "Accuracy: 63.89%\n",
      "Precision: 63.65%\n",
      "Recall: 63.89%\n"
     ]
    }
   ],
   "source": [
    "# Створення SVМ-класифікатора\n",
    "classifier = svm.SVC(kernel='sigmoid', max_iter=10_000, random_state=0)\n",
    "classifier.fit(X_train, y_train)\n",
    "\n",
    "# Використання класифікатора для кодованої точки даних та виведення результату\n",
    "predicted_class = classifier.predict(input_data_encoded.reshape(1, 14))\n",
    "print(\"Label\", label_encoder[-1].inverse_transform(predicted_class)[0])\n",
    "\n",
    "accuracy_values = cross_val_score(classifier, X, y, scoring='accuracy', cv=3)\n",
    "print(\"Accuracy: \" + str(round(100 * accuracy_values.mean(), 2)) + \"%\")\n",
    "precision_values = cross_val_score(classifier, X, y, scoring='precision_weighted', cv=3)\n",
    "print(\"Precision: \" + str(round(100 * precision_values.mean(), 2)) + \"%\")\n",
    "recall_values = cross_val_score(classifier, X, y, scoring='recall_weighted', cv=3)\n",
    "print(\"Recall: \" + str(round(100 * recall_values.mean(), 2)) + \"%\")"
   ],
   "metadata": {
    "collapsed": false,
    "pycharm": {
     "name": "#%%\n"
    }
   }
  },
  {
   "cell_type": "markdown",
   "source": [],
   "metadata": {
    "collapsed": false,
    "pycharm": {
     "name": "#%% md\n"
    }
   }
  },
  {
   "cell_type": "markdown",
   "source": [
    "## Порівняння якості класифікаторів на прикладі класифікації сортів ірисів\n",
    "\n",
    "Необхідно класифікувати сорти ірисів за деякими їх характеристиками: довжина та ширина пелюсток, а також довжина та ширина чашолистків"
   ],
   "metadata": {
    "collapsed": false,
    "pycharm": {
     "name": "#%% md\n"
    }
   }
  },
  {
   "cell_type": "code",
   "execution_count": 6,
   "outputs": [
    {
     "name": "stdout",
     "output_type": "stream",
     "text": [
      "Ключі iris_dataset: \n",
      "dict_keys(['data', 'target', 'frame', 'target_names', 'DESCR', 'feature_names', 'filename', 'data_module'])\n",
      ".. _iris_dataset:\n",
      "\n",
      "Iris plants dataset\n",
      "--------------------\n",
      "\n",
      "**Data Set Characteristics:**\n",
      "\n",
      "    :Number of Instances: 150 (50 in each of three classes)\n",
      "    :Number of Attributes: 4 numeric, pre\n",
      "...\n",
      "Назви відповідей: ['setosa' 'versicolor' 'virginica']\n",
      "Назва ознак: \n",
      "['sepal length (cm)', 'sepal width (cm)', 'petal length (cm)', 'petal width (cm)']\n",
      "Тип масиву data: <class 'numpy.ndarray'>\n",
      "Форма масиву data: (150, 4)\n",
      "Дані: \n",
      "[[5.1 3.5 1.4 0.2]\n",
      " [4.9 3.  1.4 0.2]\n",
      " [4.7 3.2 1.3 0.2]\n",
      " [4.6 3.1 1.5 0.2]\n",
      " [5.  3.6 1.4 0.2]]\n",
      "Тип target: <class 'numpy.ndarray'>\n",
      "Сорти квіток зі структури data:\n",
      "[0 0 0 0 0 0 0 0 0 0 0 0 0 0 0 0 0 0 0 0 0 0 0 0 0 0 0 0 0 0 0 0 0 0 0 0 0\n",
      " 0 0 0 0 0 0 0 0 0 0 0 0 0 1 1 1 1 1 1 1 1 1 1 1 1 1 1 1 1 1 1 1 1 1 1 1 1\n",
      " 1 1 1 1 1 1 1 1 1 1 1 1 1 1 1 1 1 1 1 1 1 1 1 1 1 1 2 2 2 2 2 2 2 2 2 2 2\n",
      " 2 2 2 2 2 2 2 2 2 2 2 2 2 2 2 2 2 2 2 2 2 2 2 2 2 2 2 2 2 2 2 2 2 2 2 2 2\n",
      " 2 2]\n"
     ]
    }
   ],
   "source": [
    "from sklearn.datasets import load_iris\n",
    "\n",
    "iris_dataset = load_iris()\n",
    "print(\"Ключі iris_dataset: \\n{}\".format(iris_dataset.keys()))\n",
    "print(iris_dataset['DESCR'][:193] + \"\\n...\")\n",
    "print(\"Назви відповідей: {}\".format(iris_dataset['target_names']))\n",
    "print(\"Назва ознак: \\n{}\".format(iris_dataset['feature_names']))\n",
    "print(\"Тип масиву data: {}\".format(type(iris_dataset['data'])))\n",
    "print(\"Форма масиву data: {}\".format(iris_dataset['data'].shape))\n",
    "\n",
    "# - Виведіть значення ознак для перших п'яти прикладів\n",
    "print(\"Дані: \\n{}\".format(iris_dataset['data'][0:5]))\n",
    "\n",
    "print(\"Тип target: {}\".format(type(iris_dataset['target'])))\n",
    "print(\"Сорти квіток зі структури data:\\n{}\".format(iris_dataset['target']))"
   ],
   "metadata": {
    "collapsed": false,
    "pycharm": {
     "name": "#%%\n"
    }
   }
  },
  {
   "cell_type": "code",
   "execution_count": 7,
   "outputs": [
    {
     "name": "stdout",
     "output_type": "stream",
     "text": [
      "(150, 5)\n",
      "    sepal-length  sepal-width  petal-length  petal-width        class\n",
      "0            5.1          3.5           1.4          0.2  Iris-setosa\n",
      "1            4.9          3.0           1.4          0.2  Iris-setosa\n",
      "2            4.7          3.2           1.3          0.2  Iris-setosa\n",
      "3            4.6          3.1           1.5          0.2  Iris-setosa\n",
      "4            5.0          3.6           1.4          0.2  Iris-setosa\n",
      "5            5.4          3.9           1.7          0.4  Iris-setosa\n",
      "6            4.6          3.4           1.4          0.3  Iris-setosa\n",
      "7            5.0          3.4           1.5          0.2  Iris-setosa\n",
      "8            4.4          2.9           1.4          0.2  Iris-setosa\n",
      "9            4.9          3.1           1.5          0.1  Iris-setosa\n",
      "10           5.4          3.7           1.5          0.2  Iris-setosa\n",
      "11           4.8          3.4           1.6          0.2  Iris-setosa\n",
      "12           4.8          3.0           1.4          0.1  Iris-setosa\n",
      "13           4.3          3.0           1.1          0.1  Iris-setosa\n",
      "14           5.8          4.0           1.2          0.2  Iris-setosa\n",
      "15           5.7          4.4           1.5          0.4  Iris-setosa\n",
      "16           5.4          3.9           1.3          0.4  Iris-setosa\n",
      "17           5.1          3.5           1.4          0.3  Iris-setosa\n",
      "18           5.7          3.8           1.7          0.3  Iris-setosa\n",
      "19           5.1          3.8           1.5          0.3  Iris-setosa\n",
      "       sepal-length  sepal-width  petal-length  petal-width\n",
      "count    150.000000   150.000000    150.000000   150.000000\n",
      "mean       5.843333     3.054000      3.758667     1.198667\n",
      "std        0.828066     0.433594      1.764420     0.763161\n",
      "min        4.300000     2.000000      1.000000     0.100000\n",
      "25%        5.100000     2.800000      1.600000     0.300000\n",
      "50%        5.800000     3.000000      4.350000     1.300000\n",
      "75%        6.400000     3.300000      5.100000     1.800000\n",
      "max        7.900000     4.400000      6.900000     2.500000\n",
      "class\n",
      "Iris-setosa        50\n",
      "Iris-versicolor    50\n",
      "Iris-virginica     50\n",
      "dtype: int64\n"
     ]
    },
    {
     "data": {
      "text/plain": "<Figure size 432x288 with 4 Axes>",
      "image/png": "[encoded data removed]"
     },
     "metadata": {},
     "output_type": "display_data"
    },
    {
     "data": {
      "text/plain": "<Figure size 432x288 with 4 Axes>",
      "image/png": "[encoded data removed]"
     },
     "metadata": {},
     "output_type": "display_data"
    },
    {
     "data": {
      "text/plain": "<Figure size 432x288 with 16 Axes>",
      "image/png": "[encoded data removed]"
     },
     "metadata": {},
     "output_type": "display_data"
    }
   ],
   "source": [
    "import numpy as np\n",
    "from pandas import read_csv\n",
    "from pandas.plotting import scatter_matrix\n",
    "from matplotlib import pyplot\n",
    "from sklearn.model_selection import train_test_split\n",
    "from sklearn.model_selection import cross_val_score\n",
    "from sklearn.model_selection import StratifiedKFold\n",
    "from sklearn.metrics import classification_report\n",
    "from sklearn.metrics import confusion_matrix\n",
    "from sklearn.metrics import accuracy_score\n",
    "from sklearn.linear_model import LogisticRegression\n",
    "from sklearn.tree import DecisionTreeClassifier\n",
    "from sklearn.neighbors import KNeighborsClassifier\n",
    "from sklearn.discriminant_analysis import LinearDiscriminantAnalysis\n",
    "from sklearn.naive_bayes import GaussianNB\n",
    "from sklearn.svm import SVC\n",
    "\n",
    "# Завантаження датасету\n",
    "url = \"https://raw.githubusercontent.com/jbrownlee/Datasets/master/iris.csv\"\n",
    "names = ['sepal-length', 'sepal-width', 'petal-length', 'petal-width', 'class']\n",
    "dataset = read_csv(url, names=names)\n",
    "\n",
    "# shape\n",
    "print(dataset.shape)\n",
    "\n",
    "# Зріз даних head\n",
    "print(dataset.head(20))\n",
    "\n",
    "# Стастичні зведення методом describe\n",
    "print(dataset.describe())\n",
    "\n",
    "# Розподіл за атрибутом class\n",
    "print(dataset.groupby('class').size())\n",
    "\n",
    "# Діаграма розмаху\n",
    "dataset.plot(kind='box', subplots=True, layout=(2, 2), sharex=False, sharey=False)\n",
    "pyplot.show()\n",
    "\n",
    "# Гістограма розподілу атрибутів датасета\n",
    "dataset.hist()\n",
    "pyplot.show()\n",
    "\n",
    "# Матриця діаграм розсіювання\n",
    "scatter_matrix(dataset)\n",
    "pyplot.show()\n",
    "\n",
    "# Розділення датасету на навчальну та контрольну вибірки\n",
    "array = dataset.values\n",
    "\n",
    "# Вибір перших 4-х стовпців\n",
    "X = array[:, 0:4]\n",
    "\n",
    "# Вибір 5-го стовпця\n",
    "y = array[:, 4]\n",
    "\n",
    "# Разделение X и y на обучающую и контрольную выборки\n",
    "X_train, X_validation, Y_train, Y_validation = train_test_split(X, y, test_size=0.20, random_state=1)\n",
    "\n",
    "# Завантажуємо алгоритми моделі\n",
    "models = []\n",
    "models.append(('LR', LogisticRegression(solver='liblinear',\n",
    "                                        multi_class='ovr')))\n",
    "models.append(('LDA', LinearDiscriminantAnalysis()))\n",
    "models.append(('KNN', KNeighborsClassifier()))\n",
    "models.append(('CART', DecisionTreeClassifier()))\n",
    "models.append(('NB', GaussianNB()))\n",
    "models.append(('SVM', SVC(gamma='auto')))"
   ],
   "metadata": {
    "collapsed": false,
    "pycharm": {
     "name": "#%%\n"
    }
   }
  },
  {
   "cell_type": "code",
   "execution_count": 8,
   "outputs": [
    {
     "name": "stdout",
     "output_type": "stream",
     "text": [
      "LR: 0.941667 (0.065085)\n",
      "LDA: 0.975000 (0.038188)\n",
      "KNN: 0.958333 (0.041667)\n",
      "CART: 0.941667 (0.038188)\n",
      "NB: 0.950000 (0.055277)\n",
      "SVM: 0.983333 (0.033333)\n"
     ]
    },
    {
     "data": {
      "text/plain": "<Figure size 432x288 with 1 Axes>",
      "image/png": "[encoded data removed]"
     },
     "metadata": {},
     "output_type": "display_data"
    }
   ],
   "source": [
    "# оцінюємо модель на кожній ітерації\n",
    "results = []\n",
    "names = []\n",
    "for name, model in models:\n",
    "    kfold = StratifiedKFold(n_splits=10, random_state=1, shuffle=True)\n",
    "    cv_results = cross_val_score(model, X_train, Y_train, cv=kfold, scoring='accuracy')\n",
    "    results.append(cv_results)\n",
    "    names.append(name)\n",
    "    print('%s: %f (%f)' % (name, cv_results.mean(), cv_results.std()))\n",
    "\n",
    "# Порівняння алгоритмів\n",
    "pyplot.boxplot(results, labels=names)\n",
    "pyplot.title('Algorithm Comparison')\n",
    "pyplot.show()"
   ],
   "metadata": {
    "collapsed": false,
    "pycharm": {
     "name": "#%%\n"
    }
   }
  },
  {
   "cell_type": "markdown",
   "source": [
    "Якщо оцінювати за accuracy, то модель на базі SVM має найточніші результаи, адже в більшості випадків акуратність сягає 100% і лише в одному з випадків вона дорівнювала приблизно 91%"
   ],
   "metadata": {
    "collapsed": false,
    "pycharm": {
     "name": "#%% md\n"
    }
   }
  },
  {
   "cell_type": "code",
   "execution_count": 9,
   "outputs": [
    {
     "name": "stdout",
     "output_type": "stream",
     "text": [
      "0.9666666666666667\n",
      "[[11  0  0]\n",
      " [ 0 12  1]\n",
      " [ 0  0  6]]\n",
      "                 precision    recall  f1-score   support\n",
      "\n",
      "    Iris-setosa       1.00      1.00      1.00        11\n",
      "Iris-versicolor       1.00      0.92      0.96        13\n",
      " Iris-virginica       0.86      1.00      0.92         6\n",
      "\n",
      "       accuracy                           0.97        30\n",
      "      macro avg       0.95      0.97      0.96        30\n",
      "   weighted avg       0.97      0.97      0.97        30\n",
      "\n"
     ]
    }
   ],
   "source": [
    "# Створюємо прогноз на контрольній вибірці\n",
    "model = SVC(gamma='auto')\n",
    "model.fit(X_train, Y_train)\n",
    "predictions = model.predict(X_validation)\n",
    "\n",
    "# Оцінюємо прогноз\n",
    "print(accuracy_score(Y_validation, predictions))\n",
    "print(confusion_matrix(Y_validation, predictions))\n",
    "print(classification_report(Y_validation, predictions))"
   ],
   "metadata": {
    "collapsed": false,
    "pycharm": {
     "name": "#%%\n"
    }
   }
  },
  {
   "cell_type": "code",
   "execution_count": 10,
   "outputs": [
    {
     "name": "stdout",
     "output_type": "stream",
     "text": [
      "Форма вхідних даних: (1, 4)\n",
      "Результат: ['Iris-setosa']\n"
     ]
    }
   ],
   "source": [
    "X_new = np.array([[5, 2.9, 1, 0.2]])\n",
    "print(\"Форма вхідних даних: {}\".format(X_new.shape))\n",
    "prediction = model.predict(X_new)\n",
    "print(\"Результат: {}\".format(prediction))"
   ],
   "metadata": {
    "collapsed": false,
    "pycharm": {
     "name": "#%%\n"
    }
   }
  },
  {
   "cell_type": "markdown",
   "source": [
    "З резільтатів видно, що наша модель розпізнала квітку з прикладу як `Iris-setosa`, при цьому показник `accuracy` моделі досягав 97% на тестових даних"
   ],
   "metadata": {
    "collapsed": false,
    "pycharm": {
     "name": "#%% md\n"
    }
   }
  },
  {
   "cell_type": "markdown",
   "source": [
    "# Порівняння якості класифікаторів для набору даних завдання 2.1"
   ],
   "metadata": {
    "collapsed": false,
    "pycharm": {
     "name": "#%% md\n"
    }
   }
  },
  {
   "cell_type": "code",
   "execution_count": 11,
   "outputs": [
    {
     "name": "stdout",
     "output_type": "stream",
     "text": [
      "LR: 0.793402 (0.006253)\n",
      "LDA: 0.812176 (0.003802)\n",
      "KNN: 0.766961 (0.006871)\n",
      "CART: 0.804302 (0.006365)\n",
      "NB: 0.789796 (0.004791)\n"
     ]
    },
    {
     "name": "stderr",
     "output_type": "stream",
     "text": [
      "C:\\University\\AI\\venv\\lib\\site-packages\\sklearn\\svm\\_base.py:284: ConvergenceWarning: Solver terminated early (max_iter=1000).  Consider pre-processing your data with StandardScaler or MinMaxScaler.\n",
      "  warnings.warn(\n",
      "C:\\University\\AI\\venv\\lib\\site-packages\\sklearn\\svm\\_base.py:284: ConvergenceWarning: Solver terminated early (max_iter=1000).  Consider pre-processing your data with StandardScaler or MinMaxScaler.\n",
      "  warnings.warn(\n",
      "C:\\University\\AI\\venv\\lib\\site-packages\\sklearn\\svm\\_base.py:284: ConvergenceWarning: Solver terminated early (max_iter=1000).  Consider pre-processing your data with StandardScaler or MinMaxScaler.\n",
      "  warnings.warn(\n",
      "C:\\University\\AI\\venv\\lib\\site-packages\\sklearn\\svm\\_base.py:284: ConvergenceWarning: Solver terminated early (max_iter=1000).  Consider pre-processing your data with StandardScaler or MinMaxScaler.\n",
      "  warnings.warn(\n",
      "C:\\University\\AI\\venv\\lib\\site-packages\\sklearn\\svm\\_base.py:284: ConvergenceWarning: Solver terminated early (max_iter=1000).  Consider pre-processing your data with StandardScaler or MinMaxScaler.\n",
      "  warnings.warn(\n",
      "C:\\University\\AI\\venv\\lib\\site-packages\\sklearn\\svm\\_base.py:284: ConvergenceWarning: Solver terminated early (max_iter=1000).  Consider pre-processing your data with StandardScaler or MinMaxScaler.\n",
      "  warnings.warn(\n",
      "C:\\University\\AI\\venv\\lib\\site-packages\\sklearn\\svm\\_base.py:284: ConvergenceWarning: Solver terminated early (max_iter=1000).  Consider pre-processing your data with StandardScaler or MinMaxScaler.\n",
      "  warnings.warn(\n",
      "C:\\University\\AI\\venv\\lib\\site-packages\\sklearn\\svm\\_base.py:284: ConvergenceWarning: Solver terminated early (max_iter=1000).  Consider pre-processing your data with StandardScaler or MinMaxScaler.\n",
      "  warnings.warn(\n",
      "C:\\University\\AI\\venv\\lib\\site-packages\\sklearn\\svm\\_base.py:284: ConvergenceWarning: Solver terminated early (max_iter=1000).  Consider pre-processing your data with StandardScaler or MinMaxScaler.\n",
      "  warnings.warn(\n",
      "C:\\University\\AI\\venv\\lib\\site-packages\\sklearn\\svm\\_base.py:284: ConvergenceWarning: Solver terminated early (max_iter=1000).  Consider pre-processing your data with StandardScaler or MinMaxScaler.\n",
      "  warnings.warn(\n"
     ]
    },
    {
     "name": "stdout",
     "output_type": "stream",
     "text": [
      "SVM: 0.560107 (0.191033)\n"
     ]
    },
    {
     "data": {
      "text/plain": "<Figure size 432x288 with 1 Axes>",
      "image/png": "[encoded data removed]"
     },
     "metadata": {},
     "output_type": "display_data"
    }
   ],
   "source": [
    "from sklearn import preprocessing\n",
    "import numpy as np\n",
    "from matplotlib import pyplot\n",
    "from sklearn.model_selection import train_test_split\n",
    "from sklearn.model_selection import cross_val_score\n",
    "from sklearn.model_selection import StratifiedKFold\n",
    "from sklearn.metrics import classification_report\n",
    "from sklearn.linear_model import LogisticRegression\n",
    "from sklearn.tree import DecisionTreeClassifier\n",
    "from sklearn.neighbors import KNeighborsClassifier\n",
    "from sklearn.discriminant_analysis import LinearDiscriminantAnalysis\n",
    "from sklearn.naive_bayes import GaussianNB\n",
    "from sklearn.svm import SVC\n",
    "\n",
    "# Вхідний файл, який містить дані\n",
    "input_file = 'income_data.txt'\n",
    "\n",
    "# Читання даних\n",
    "X = []\n",
    "y = []\n",
    "count_class1 = 0\n",
    "count_class2 = 0\n",
    "max_datapoints = 25000\n",
    "\n",
    "with open(input_file, 'r') as f:\n",
    "    for line in f.readlines():\n",
    "        if count_class1 >= max_datapoints and count_class2 >= max_datapoints:\n",
    "            break\n",
    "        if '?' in line:\n",
    "            continue\n",
    "\n",
    "        data = line[:-1].split(', ')\n",
    "\n",
    "        if data[-1] == '<=50K' and count_class1 < max_datapoints:\n",
    "            X.append(data)\n",
    "            count_class1 += 1\n",
    "        if data[-1] == '>50K' and count_class2 < max_datapoints:\n",
    "            X.append(data)\n",
    "            count_class2 += 1\n",
    "\n",
    "# Перетворення на масив numpy\n",
    "X = np.array(X)\n",
    "\n",
    "# Перетворення рядкових даних на числові\n",
    "label_encoder = []\n",
    "X_encoded = np.empty(X.shape)\n",
    "for i, item in enumerate(X[0]):\n",
    "    if item.isdigit():\n",
    "        X_encoded[:, i] = X[:, i]\n",
    "    else:\n",
    "        label_encoder.append(preprocessing.LabelEncoder())\n",
    "        X_encoded[:, i] = label_encoder[-1].fit_transform(X[:, i])\n",
    "\n",
    "X = X_encoded[:, :-1].astype(int)\n",
    "y = X_encoded[:, -1].astype(int)\n",
    "\n",
    "# Разделение X и y на обучающую и контрольную выборки\n",
    "X_train, X_validation, Y_train, Y_validation = train_test_split(X, y, test_size=0.20, random_state=1)\n",
    "\n",
    "# Завантажуємо алгоритми моделі\n",
    "models = []\n",
    "models.append(('LR', LogisticRegression(solver='liblinear',\n",
    "                                        multi_class='ovr')))\n",
    "models.append(('LDA', LinearDiscriminantAnalysis()))\n",
    "models.append(('KNN', KNeighborsClassifier()))\n",
    "models.append(('CART', DecisionTreeClassifier()))\n",
    "models.append(('NB', GaussianNB()))\n",
    "models.append(('SVM', SVC(gamma='auto', max_iter=1_000)))\n",
    "\n",
    "# оцінюємо модель на кожній ітерації\n",
    "results = []\n",
    "names = []\n",
    "for name, model in models:\n",
    "    kfold = StratifiedKFold(n_splits=10, random_state=1, shuffle=True)\n",
    "    cv_results = cross_val_score(model, X_train, Y_train, cv=kfold, scoring='accuracy', )\n",
    "    results.append(cv_results)\n",
    "    names.append(name)\n",
    "    print('%s: %f (%f)' % (name, cv_results.mean(), cv_results.std()))\n",
    "\n",
    "# Порівняння алгоритмів\n",
    "pyplot.boxplot(results, labels=names)\n",
    "pyplot.title('Algorithm Comparison')\n",
    "pyplot.show()"
   ],
   "metadata": {
    "collapsed": false,
    "pycharm": {
     "name": "#%%\n"
    }
   }
  },
  {
   "cell_type": "code",
   "execution_count": 12,
   "outputs": [
    {
     "name": "stdout",
     "output_type": "stream",
     "text": [
      "SVC\n",
      "              precision    recall  f1-score   support\n",
      "\n",
      "           0       0.74      1.00      0.85      4483\n",
      "           1       0.57      0.00      0.01      1550\n",
      "\n",
      "    accuracy                           0.74      6033\n",
      "   macro avg       0.66      0.50      0.43      6033\n",
      "weighted avg       0.70      0.74      0.63      6033\n",
      "\n"
     ]
    }
   ],
   "source": [
    "# - SVC\n",
    "model = SVC(gamma='auto', max_iter=1_000)\n",
    "model.fit(X_train, Y_train)\n",
    "predictions = model.predict(X_validation)\n",
    "print('SVC')\n",
    "print(classification_report(Y_validation, predictions))"
   ],
   "metadata": {
    "collapsed": false,
    "pycharm": {
     "name": "#%%\n"
    }
   }
  },
  {
   "cell_type": "code",
   "execution_count": 13,
   "outputs": [
    {
     "name": "stdout",
     "output_type": "stream",
     "text": [
      "Gaussian\n",
      "              precision    recall  f1-score   support\n",
      "\n",
      "           0       0.80      0.95      0.87      4483\n",
      "           1       0.69      0.31      0.43      1550\n",
      "\n",
      "    accuracy                           0.79      6033\n",
      "   macro avg       0.74      0.63      0.65      6033\n",
      "weighted avg       0.77      0.79      0.76      6033\n",
      "\n"
     ]
    }
   ],
   "source": [
    "# - Gaussian\n",
    "model = GaussianNB()\n",
    "model.fit(X_train, Y_train)\n",
    "predictions = model.predict(X_validation)\n",
    "print('Gaussian')\n",
    "print(classification_report(Y_validation, predictions))"
   ],
   "metadata": {
    "collapsed": false,
    "pycharm": {
     "name": "#%%\n"
    }
   }
  },
  {
   "cell_type": "code",
   "execution_count": 14,
   "outputs": [
    {
     "name": "stdout",
     "output_type": "stream",
     "text": [
      "DecisionTree\n",
      "              precision    recall  f1-score   support\n",
      "\n",
      "           0       0.87      0.87      0.87      4483\n",
      "           1       0.62      0.62      0.62      1550\n",
      "\n",
      "    accuracy                           0.81      6033\n",
      "   macro avg       0.75      0.74      0.74      6033\n",
      "weighted avg       0.81      0.81      0.81      6033\n",
      "\n"
     ]
    }
   ],
   "source": [
    "# - DecisionTree\n",
    "model = DecisionTreeClassifier()\n",
    "model.fit(X_train, Y_train)\n",
    "predictions = model.predict(X_validation)\n",
    "print('DecisionTree')\n",
    "print(classification_report(Y_validation, predictions))"
   ],
   "metadata": {
    "collapsed": false,
    "pycharm": {
     "name": "#%%\n"
    }
   }
  },
  {
   "cell_type": "code",
   "execution_count": 15,
   "outputs": [
    {
     "name": "stdout",
     "output_type": "stream",
     "text": [
      "KNeighbors\n",
      "              precision    recall  f1-score   support\n",
      "\n",
      "           0       0.80      0.93      0.86      4483\n",
      "           1       0.59      0.31      0.41      1550\n",
      "\n",
      "    accuracy                           0.77      6033\n",
      "   macro avg       0.69      0.62      0.63      6033\n",
      "weighted avg       0.74      0.77      0.74      6033\n",
      "\n"
     ]
    }
   ],
   "source": [
    "# - KNeighbors\n",
    "model = KNeighborsClassifier()\n",
    "model.fit(X_train, Y_train)\n",
    "predictions = model.predict(X_validation)\n",
    "print('KNeighbors')\n",
    "print(classification_report(Y_validation, predictions))"
   ],
   "metadata": {
    "collapsed": false,
    "pycharm": {
     "name": "#%%\n"
    }
   }
  },
  {
   "cell_type": "code",
   "execution_count": 16,
   "outputs": [
    {
     "name": "stdout",
     "output_type": "stream",
     "text": [
      "LinearDiscriminantAnalysis\n",
      "              precision    recall  f1-score   support\n",
      "\n",
      "           0       0.82      0.94      0.88      4483\n",
      "           1       0.71      0.42      0.52      1550\n",
      "\n",
      "    accuracy                           0.81      6033\n",
      "   macro avg       0.76      0.68      0.70      6033\n",
      "weighted avg       0.79      0.81      0.79      6033\n",
      "\n"
     ]
    }
   ],
   "source": [
    "# - LinearDiscriminantAnalysis\n",
    "model = LinearDiscriminantAnalysis()\n",
    "model.fit(X_train, Y_train)\n",
    "predictions = model.predict(X_validation)\n",
    "print('LinearDiscriminantAnalysis')\n",
    "print(classification_report(Y_validation, predictions))"
   ],
   "metadata": {
    "collapsed": false,
    "pycharm": {
     "name": "#%%\n"
    }
   }
  },
  {
   "cell_type": "code",
   "execution_count": 17,
   "outputs": [
    {
     "name": "stdout",
     "output_type": "stream",
     "text": [
      "LogisticRegression\n",
      "              precision    recall  f1-score   support\n",
      "\n",
      "           0       0.79      0.95      0.86      4483\n",
      "           1       0.65      0.28      0.40      1550\n",
      "\n",
      "    accuracy                           0.78      6033\n",
      "   macro avg       0.72      0.62      0.63      6033\n",
      "weighted avg       0.76      0.78      0.74      6033\n",
      "\n"
     ]
    }
   ],
   "source": [
    "# - LogisticRegression\n",
    "model = LogisticRegression(solver='liblinear', multi_class='ovr')\n",
    "model.fit(X_train, Y_train)\n",
    "predictions = model.predict(X_validation)\n",
    "print('LogisticRegression')\n",
    "print(classification_report(Y_validation, predictions))"
   ],
   "metadata": {
    "collapsed": false,
    "pycharm": {
     "name": "#%%\n"
    }
   }
  },
  {
   "cell_type": "markdown",
   "source": [
    "За графіком, краще усього себе проявив LinearDiscriminantAnalysis. Причина в тому що в SVC було встановлено значення max_iter, бо в іншому випадку обрахунки займали надто багато часу."
   ],
   "metadata": {
    "collapsed": false,
    "pycharm": {
     "name": "#%% md\n"
    }
   }
  },
  {
   "cell_type": "markdown",
   "source": [
    "# Класифікація даних лінійним класифікатором Ridge"
   ],
   "metadata": {
    "collapsed": false,
    "pycharm": {
     "name": "#%% md\n"
    }
   }
  },
  {
   "cell_type": "code",
   "execution_count": 18,
   "outputs": [
    {
     "name": "stdout",
     "output_type": "stream",
     "text": [
      "Accuracy: 0.7556\n",
      "Precision: 0.8333\n",
      "Recall: 0.7556\n",
      "F1 Score: 0.7503\n",
      "Cohen Kappa Score: 0.6431\n",
      "Matthews Corrcoef: 0.6831\n",
      "\t\tClassification Report:\n",
      "               precision    recall  f1-score   support\n",
      "\n",
      "           0       1.00      1.00      1.00        16\n",
      "           1       0.44      0.89      0.59         9\n",
      "           2       0.91      0.50      0.65        20\n",
      "\n",
      "    accuracy                           0.76        45\n",
      "   macro avg       0.78      0.80      0.75        45\n",
      "weighted avg       0.85      0.76      0.76        45\n",
      "\n"
     ]
    },
    {
     "data": {
      "text/plain": "<Figure size 432x288 with 1 Axes>",
      "image/png": "[encoded data removed]"
     },
     "metadata": {},
     "output_type": "display_data"
    }
   ],
   "source": [
    "# ===================================================\n",
    "# Приклад класифікатора Ridge\n",
    "# ======================================================================\n",
    "import numpy as np\n",
    "import seaborn as sns\n",
    "import matplotlib.pyplot as plt\n",
    "from sklearn import metrics\n",
    "from sklearn.datasets import load_iris\n",
    "from sklearn.linear_model import RidgeClassifier\n",
    "from sklearn.model_selection import train_test_split\n",
    "from sklearn.metrics import confusion_matrix\n",
    "from io import BytesIO\n",
    "\n",
    "iris = load_iris()\n",
    "X, y = iris.data, iris.target\n",
    "X_train, X_test, y_train, y_test = train_test_split(X, y, test_size=0.3, random_state=0)\n",
    "clf = RidgeClassifier(tol=1e-2, solver=\"sag\")\n",
    "clf.fit(X_train, y_train)\n",
    "y_pred = clf.predict(X_test)\n",
    "\n",
    "print('Accuracy:', np.round(metrics.accuracy_score(y_test, y_pred), 4))\n",
    "print('Precision:', np.round(metrics.precision_score(y_test, y_pred, average='weighted'), 4))\n",
    "print('Recall:', np.round(metrics.recall_score(y_test, y_pred, average='weighted'), 4))\n",
    "print('F1 Score:', np.round(metrics.f1_score(y_test, y_pred, average='weighted'), 4))\n",
    "print('Cohen Kappa Score:', np.round(metrics.cohen_kappa_score(y_test, y_pred), 4))\n",
    "print('Matthews Corrcoef:', np.round(metrics.matthews_corrcoef(y_test, y_pred), 4))\n",
    "print('\\t\\tClassification Report:\\n', metrics.classification_report(y_pred, y_test))\n",
    "\n",
    "sns.set()\n",
    "mat = confusion_matrix(y_test, y_pred)\n",
    "sns.heatmap(mat.T, square=True, annot=True, fmt='d', cbar=False)\n",
    "plt.xlabel('true label')\n",
    "plt.ylabel('predicted label')\n",
    "plt.savefig(\"Confusion.jpg\")\n",
    "# Save SVG in a fake file object.\n",
    "f = BytesIO()\n",
    "plt.savefig(f, format=\"svg\")"
   ],
   "metadata": {
    "collapsed": false,
    "pycharm": {
     "name": "#%%\n"
    }
   }
  },
  {
   "cell_type": "markdown",
   "source": [
    "### Опишіть які налаштування класифікатора Ridge тут використані та що во-ни позначають.\n",
    "\n",
    "- tol float, default=1e-3 - Precision of the solution.\n",
    "- solver{‘auto’, ‘svd’, ‘cholesky’, ‘lsqr’, ‘sparse_cg’, ‘sag’, ‘saga’, ‘lbfgs’}, default=’auto’ -Solver to use in the computational routines:\n",
    "    - ‘auto’ chooses the solver automatically based on the type of data.\n",
    "    - ‘svd’ uses a Singular Value Decomposition of X to compute the Ridge coefficients. More stable for singular matrices than ‘cholesky’.\n",
    "    - ‘cholesky’ uses the standard scipy.linalg.solve function to obtain a closed-form solution.\n",
    "    - ‘sparse_cg’ uses the conjugate gradient solver as found in scipy.sparse.linalg.cg. As an iterative algorithm, this solver is more appropriate than ‘cholesky’ for large-scale data (possibility to set tol and max_iter).\n",
    "    - ‘lsqr’ uses the dedicated regularized least-squares routine scipy.sparse.linalg.lsqr. It is the fastest and uses an iterative procedure.\n",
    "    - ‘sag’ uses a Stochastic Average Gradient descent, and ‘saga’ uses its unbiased and more flexible version named SAGA. Both methods use an iterative procedure, and are often faster than other solvers when both n_samples and n_features are large. Note that ‘sag’ and ‘saga’ fast convergence is only guaranteed on features with approximately the same scale. You can preprocess the data with a scaler from sklearn.preprocessing.\n",
    "    - New in version 0.17: Stochastic Average Gradient descent solver.\n",
    "    - New in version 0.19: SAGA solver.\n",
    "    - ‘lbfgs’ uses L-BFGS-B algorithm implemented in scipy.optimize.minimize. It can be used only when positive is True.\n"
   ],
   "metadata": {
    "collapsed": false,
    "pycharm": {
     "name": "#%% md\n"
    }
   }
  },
  {
   "cell_type": "markdown",
   "source": [
    "### Опишіть які показники якості використовуються та їх отримані результа-ти.\n",
    "\n",
    "Використовуються наступні показники якості з отриманими значеннями\n",
    "- Accuracy: 0.7556\n",
    "- Precision: 0.8333\n",
    "- Recall: 0.7556\n",
    "- F1 Score: 0.7503\n",
    "- Cohen Kappa Score: 0.6431\n",
    "- Matthews Corrcoef: 0.6831\n",
    "\n",
    "### Вставте у звіт та поясніть зображення Confusion.jpg\n",
    "\n",
    "![](Confusion.jpg)\n",
    "\n",
    "Зображення є так званною тепловою мапою, яка поділена на рядки (отримані результати) та стовпці (справжні результати). Цифрами та кольором квадратів позначається кількість отриманих результатів\n",
    "\n",
    "### Опишіть, що таке коефіцієнт Коена Каппа та коефіцієнт кореляції Метьюза. Що вони тут розраховують та що показують.\n",
    "\n",
    "Коефіцієнт Коена Каппа – статистика, яка показує коефіцієнт зменшення помилок між класифікацією та випадковою класифікацією. Наприклад, 0,6431 > 0,5, що означає більш менш задовільну згоду між коефіцієнтами.\n",
    "\n",
    "Коефіцієнт кореляції Метьюза – міра якості моно-та мультикласових класи-фікацій. Значення 0,6831 означає, що класифікатор близький до правильного результату.\n"
   ],
   "metadata": {
    "collapsed": false,
    "pycharm": {
     "name": "#%% md\n"
    }
   }
  },
  {
   "cell_type": "markdown",
   "source": [],
   "metadata": {
    "collapsed": false,
    "pycharm": {
     "name": "#%% md\n"
    }
   }
  }
 ],
 "metadata": {
  "kernelspec": {
   "display_name": "Python 3 (ipykernel)",
   "language": "python",
   "name": "python3"
  },
  "language_info": {
   "codemirror_mode": {
    "name": "ipython",
    "version": 3
   },
   "file_extension": ".py",
   "mimetype": "text/x-python",
   "name": "python",
   "nbconvert_exporter": "python",
   "pygments_lexer": "ipython3",
   "version": "3.10.2"
  }
 },
 "nbformat": 4,
 "nbformat_minor": 1
}